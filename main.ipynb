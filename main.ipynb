{
 "cells": [
  {
   "cell_type": "markdown",
   "metadata": {
    "collapsed": true,
    "slideshow": {
     "slide_type": "slide"
    }
   },
   "source": [
    "### From point clouds to graphs\n",
    "\n",
    "## Miguel Vaz\n",
    "\n",
    "### Düsseldorf, 28th October 2015"
   ]
  },
  {
   "cell_type": "markdown",
   "metadata": {
    "slideshow": {
     "slide_type": "slide"
    }
   },
   "source": [
    "# About me\n",
    "\n",
    "Finance pays my bills\n",
    "\n",
    "d-fine\n",
    "360 T\n",
    "\n",
    "PhD in Robotics (speech interaction with a humanoid) brought me there\n",
    "Honda Research Institute Europe\n",
    "\n",
    "@migueljvaz\n",
    "\n",
    "I don't like \"Alt\""
   ]
  },
  {
   "cell_type": "markdown",
   "metadata": {
    "slideshow": {
     "slide_type": "slide"
    }
   },
   "source": [
    "<div class=\"col-xs-1\"><h1>I</h1></div>\n",
    "<div class=\"col-xs-2\">\n",
    "<img src=\"https://upload.wikimedia.org/wikipedia/commons/thumb/f/f1/Heart_coraz%C3%B3n.svg/75px-Heart_coraz%C3%B3n.svg.png\"/>\n",
    "</div>\n",
    "<div class=\"col-xs-6\"><h1>networks</h1></div>"
   ]
  },
  {
   "cell_type": "markdown",
   "metadata": {
    "slideshow": {
     "slide_type": "notes"
    }
   },
   "source": [
    "say something"
   ]
  },
  {
   "cell_type": "markdown",
   "metadata": {
    "slideshow": {
     "slide_type": "slide"
    }
   },
   "source": [
    "# Why?\n",
    "\n",
    "Networks give us a way to quantify and reason about concepts that are already familiar to us."
   ]
  },
  {
   "cell_type": "markdown",
   "metadata": {
    "slideshow": {
     "slide_type": "fragment"
    }
   },
   "source": [
    "\"Frankfurt airport is an international hub\""
   ]
  },
  {
   "cell_type": "markdown",
   "metadata": {
    "slideshow": {
     "slide_type": "fragment"
    }
   },
   "source": [
    "\"Lehman was too central to fail\""
   ]
  },
  {
   "cell_type": "markdown",
   "metadata": {
    "slideshow": {
     "slide_type": "fragment"
    }
   },
   "source": [
    "\"Thomas Wiecki is a well connected data scientist\""
   ]
  },
  {
   "cell_type": "markdown",
   "metadata": {
    "slideshow": {
     "slide_type": "slide"
    }
   },
   "source": [
    "![](http://ecx.images-amazon.com/images/I/71qAmSP21wL.jpg)"
   ]
  },
  {
   "cell_type": "markdown",
   "metadata": {
    "slideshow": {
     "slide_type": "skip"
    }
   },
   "source": [
    "Mention paper from PyData 2014"
   ]
  },
  {
   "cell_type": "code",
   "execution_count": null,
   "metadata": {
    "collapsed": true,
    "slideshow": {
     "slide_type": "skip"
    }
   },
   "outputs": [],
   "source": [
    "# preparation"
   ]
  },
  {
   "cell_type": "code",
   "execution_count": null,
   "metadata": {
    "collapsed": false,
    "slideshow": {
     "slide_type": "skip"
    }
   },
   "outputs": [],
   "source": [
    "%load_ext autoreload\n",
    "%autoreload 2"
   ]
  },
  {
   "cell_type": "code",
   "execution_count": null,
   "metadata": {
    "collapsed": true,
    "slideshow": {
     "slide_type": "skip"
    }
   },
   "outputs": [],
   "source": [
    "from IPython.display import  display, display_html"
   ]
  },
  {
   "cell_type": "markdown",
   "metadata": {
    "slideshow": {
     "slide_type": "slide"
    }
   },
   "source": [
    "# Part 1: point clouds\n",
    "\n",
    "Let's assume a well behaved dataset, with points selected from either of the following distributions\n",
    "\n",
    "$X_1 \\sim N\\left( \\mu=(1,1),\\, \\sigma^2=(0.9, 0.9) \\right)$\n",
    "\n",
    "$X_2 \\sim N\\left( \\mu=(-0.5,0),\\, \\sigma^2=(0.9, 0.9) \\right)$\n",
    "\n",
    "$X_3 \\sim N\\left( \\mu=(1,-1),\\, \\sigma^2=(0.9, 0.9) \\right)$\n",
    "\n",
    "Well-behaved means in this case that it is described by almost non-overlaping centroids."
   ]
  },
  {
   "cell_type": "code",
   "execution_count": null,
   "metadata": {
    "collapsed": false,
    "slideshow": {
     "slide_type": "skip"
    }
   },
   "outputs": [],
   "source": [
    "import matplotlib.pyplot as plt\n",
    "import seaborn as sns\n",
    "from bokeh.plotting import output_notebook, figure, show, ColumnDataSource\n",
    "TOOLS=\"resize,crosshair,pan,wheel_zoom,box_zoom,reset,tap,previewsave,box_select,poly_select,lasso_select\"\n",
    "output_notebook()"
   ]
  },
  {
   "cell_type": "code",
   "execution_count": null,
   "metadata": {
    "collapsed": true
   },
   "outputs": [],
   "source": [
    "from kmeans_aux import *"
   ]
  },
  {
   "cell_type": "code",
   "execution_count": null,
   "metadata": {
    "collapsed": true,
    "slideshow": {
     "slide_type": "skip"
    }
   },
   "outputs": [],
   "source": [
    "from sympy import *\n",
    "init_printing(use_unicode=True)"
   ]
  },
  {
   "cell_type": "code",
   "execution_count": null,
   "metadata": {
    "collapsed": false,
    "slideshow": {
     "slide_type": "skip"
    }
   },
   "outputs": [],
   "source": [
    "m = Matrix(np.matrix([[-2,1,1], [2,-2,0], [1,0,-1]]) )\n",
    "m"
   ]
  },
  {
   "cell_type": "code",
   "execution_count": null,
   "metadata": {
    "collapsed": false,
    "slideshow": {
     "slide_type": "fragment"
    }
   },
   "outputs": [],
   "source": [
    "X, labels_true, centres = generate_three_circles()\n",
    "src = create_datasource(X, labels_true, centres)"
   ]
  },
  {
   "cell_type": "code",
   "execution_count": null,
   "metadata": {
    "collapsed": false,
    "slideshow": {
     "slide_type": "fragment"
    }
   },
   "outputs": [],
   "source": [
    "p = figure(tools=TOOLS);\n",
    "p.scatter('x', 'y', radius='radius', color='fill_color', source=src);\n",
    "show(p)"
   ]
  },
  {
   "cell_type": "markdown",
   "metadata": {
    "slideshow": {
     "slide_type": "slide"
    }
   },
   "source": [
    "## K-Means\n",
    "\n",
    "One possible way of recovering the categories is by using the K-Means clustering algorithm.\n",
    "\n",
    "The $k$-means uses $k$ centroids to define clusters.\n",
    "It finds the best centroids by alternating between\n",
    "\n",
    "1. assigning data points to clusters based on the current centroids\n",
    "2. chosing centroids (points which are the center of a cluster) based on the current assignment of data points to clusters.\n",
    "\n",
    "![xxx](pics/kmeans.png)\n",
    "\n",
    "Picture taken from [this website](http://stanford.edu/~cpiech/cs221/handouts/kmeans.html) by Chris Piech."
   ]
  },
  {
   "cell_type": "markdown",
   "metadata": {
    "slideshow": {
     "slide_type": "subslide"
    }
   },
   "source": [
    "1. Initialize cluster centroids $\\mu_1, \\mu_2, \\ldots, \\mu_k \\in \\mathcal{R}^n$ (randomly)\n",
    "2. Repeat until convergence : {\n",
    "\n",
    "    For every $i$, set $$c^{(i)} := arg \\min_{j} || x^(i) - \\mu_j ||^2$$\n",
    "\n",
    "    For each $j$, set $$\\mu_j := \\frac{\\sum_{i=1}^m 1_{c^(i) = j}x^(i) }{\\sum_{i=1}^m 1_{c^(i) = j}x^(i)}$$\n",
    "}"
   ]
  },
  {
   "cell_type": "markdown",
   "metadata": {
    "slideshow": {
     "slide_type": "fragment"
    }
   },
   "source": [
    "Scikit-learn already has an implementation of the algorithm"
   ]
  },
  {
   "cell_type": "code",
   "execution_count": null,
   "metadata": {
    "collapsed": false,
    "slideshow": {
     "slide_type": "slide"
    }
   },
   "outputs": [],
   "source": [
    "k_means_3_labels, k_means_3_cluster_centres = do_kmeans(X, n_clusters=3)\n",
    "distance, order, is_correct = compare_kmeans_with_prior(k_means_3_cluster_centres, k_means_3_labels, centres, labels_true)"
   ]
  },
  {
   "cell_type": "code",
   "execution_count": null,
   "metadata": {
    "collapsed": false,
    "slideshow": {
     "slide_type": "fragment"
    }
   },
   "outputs": [],
   "source": [
    "# part the plot\n",
    "alpha = 0.9  - is_correct * 0.8\n",
    "rad = src.data['radius'] * (1 + (~ is_correct * 1))\n",
    "src.add(rad, 'radius2')\n",
    "src.add(alpha, name='alpha' )"
   ]
  },
  {
   "cell_type": "code",
   "execution_count": null,
   "metadata": {
    "collapsed": false,
    "slideshow": {
     "slide_type": "slide"
    }
   },
   "outputs": [],
   "source": [
    "p = figure(tools=TOOLS);\n",
    "p.scatter('x', 'y', color='fill_color', alpha='alpha', radius='radius2', source=src);\n",
    "show(p)"
   ]
  },
  {
   "cell_type": "markdown",
   "metadata": {
    "slideshow": {
     "slide_type": "slide"
    }
   },
   "source": [
    "# Part 2: graphs\n",
    "\n",
    "Let's assume a different dataset, with points selected from either of the following distributions."
   ]
  },
  {
   "cell_type": "code",
   "execution_count": null,
   "metadata": {
    "collapsed": false,
    "slideshow": {
     "slide_type": "fragment"
    }
   },
   "outputs": [],
   "source": [
    "X, true_labels = generate_two_moons()\n",
    "p = figure(tools=TOOLS);\n",
    "x,y = [list(t) for t in zip(*X)]\n",
    "p.scatter(x, y, color='black', radius=0.02);\n",
    "show(p)"
   ]
  },
  {
   "cell_type": "markdown",
   "metadata": {
    "slideshow": {
     "slide_type": "fragment"
    }
   },
   "source": [
    "The distribution is no longer described by centroids."
   ]
  },
  {
   "cell_type": "markdown",
   "metadata": {
    "slideshow": {
     "slide_type": "slide"
    }
   },
   "source": [
    "K-Means does not capture the non-linearity of the dataset structure"
   ]
  },
  {
   "cell_type": "code",
   "execution_count": null,
   "metadata": {
    "collapsed": true,
    "slideshow": {
     "slide_type": "fragment"
    }
   },
   "outputs": [],
   "source": [
    "k_means_2_labels, k_means_2_cluster_centres = do_kmeans(X, n_clusters=2, n_init=10)\n",
    "src2 = create_datasource(X, k_means_2_labels, k_means_2_cluster_centres)"
   ]
  },
  {
   "cell_type": "code",
   "execution_count": null,
   "metadata": {
    "collapsed": false,
    "slideshow": {
     "slide_type": "fragment"
    }
   },
   "outputs": [],
   "source": [
    "p = figure(tools=TOOLS);\n",
    "p.scatter('x', 'y', color='fill_color', source=src2);\n",
    "# alpha='alpha', radius='radius', \n",
    "show(p)"
   ]
  },
  {
   "cell_type": "markdown",
   "metadata": {
    "slideshow": {
     "slide_type": "slide"
    }
   },
   "source": [
    "# Other solutions?\n",
    "\n",
    "### Neural Network\n",
    "\n",
    "### Project the dataset into a different space (Support Vector Machine)\n",
    "\n",
    "### Any suggestions?\n",
    "\n",
    "\n"
   ]
  },
  {
   "cell_type": "markdown",
   "metadata": {
    "slideshow": {
     "slide_type": "fragment"
    }
   },
   "source": [
    "### Today we will look at Spectral Clustering"
   ]
  },
  {
   "cell_type": "code",
   "execution_count": null,
   "metadata": {
    "collapsed": true
   },
   "outputs": [],
   "source": []
  },
  {
   "cell_type": "code",
   "execution_count": null,
   "metadata": {
    "collapsed": true
   },
   "outputs": [],
   "source": []
  },
  {
   "cell_type": "code",
   "execution_count": null,
   "metadata": {
    "collapsed": true
   },
   "outputs": [],
   "source": []
  },
  {
   "cell_type": "code",
   "execution_count": null,
   "metadata": {
    "collapsed": true
   },
   "outputs": [],
   "source": []
  },
  {
   "cell_type": "code",
   "execution_count": null,
   "metadata": {
    "collapsed": true
   },
   "outputs": [],
   "source": []
  },
  {
   "cell_type": "code",
   "execution_count": null,
   "metadata": {
    "collapsed": false,
    "slideshow": {
     "slide_type": "skip"
    }
   },
   "outputs": [],
   "source": [
    "from d3networkx import EventfulGraph, ForceDirectedGraph, empty_eventfulgraph_hook"
   ]
  },
  {
   "cell_type": "code",
   "execution_count": null,
   "metadata": {
    "collapsed": true,
    "slideshow": {
     "slide_type": "skip"
    }
   },
   "outputs": [],
   "source": [
    "from networkx.generators import random_graphs\n",
    "from networkx.generators import classic"
   ]
  },
  {
   "cell_type": "code",
   "execution_count": null,
   "metadata": {
    "collapsed": false,
    "slideshow": {
     "slide_type": "skip"
    }
   },
   "outputs": [],
   "source": [
    "def handle_graph(graph):\n",
    "    print(graph.graph._sleep)\n",
    "    graph_widget = ForceDirectedGraph(graph, width=600, height=500)\n",
    "    display(graph_widget)\n",
    "EventfulGraph.on_constructed(handle_graph)\n",
    "random_graphs.empty_graph = empty_eventfulgraph_hook(sleep=0.01)"
   ]
  },
  {
   "cell_type": "code",
   "execution_count": null,
   "metadata": {
    "collapsed": false,
    "slideshow": {
     "slide_type": "slide"
    }
   },
   "outputs": [],
   "source": [
    "g = random_graphs.powerlaw_cluster_graph(70, 3, 0.7);"
   ]
  },
  {
   "cell_type": "code",
   "execution_count": null,
   "metadata": {
    "collapsed": false,
    "slideshow": {
     "slide_type": "skip"
    }
   },
   "outputs": [],
   "source": [
    "g.node[1]['fill'] = '#770000'"
   ]
  }
 ],
 "metadata": {
  "celltoolbar": "Slideshow",
  "hide_input": false,
  "kernelspec": {
   "display_name": "Python 3",
   "language": "python",
   "name": "python3"
  },
  "language_info": {
   "codemirror_mode": {
    "name": "ipython",
    "version": 3
   },
   "file_extension": ".py",
   "mimetype": "text/x-python",
   "name": "python",
   "nbconvert_exporter": "python",
   "pygments_lexer": "ipython3",
   "version": "3.4.3"
  }
 },
 "nbformat": 4,
 "nbformat_minor": 0
}
